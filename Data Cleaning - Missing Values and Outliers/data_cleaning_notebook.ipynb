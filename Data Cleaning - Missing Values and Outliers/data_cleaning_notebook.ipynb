{
 "cells": [
  {
   "cell_type": "code",
   "execution_count": 1,
   "id": "bc9c0975",
   "metadata": {},
   "outputs": [],
   "source": [
    "# Importing the required libraries\n",
    "\n",
    "import pandas as pd\n",
    "import matplotlib.pyplot as plt\n",
    "import numpy as np"
   ]
  },
  {
   "cell_type": "code",
   "execution_count": 2,
   "id": "6c3c117d",
   "metadata": {},
   "outputs": [],
   "source": [
    "# Reading the CSV Files into DataFrames\n",
    "\n",
    "landslide_orig = pd.read_csv(\"landslide_data3_original.csv\")\n",
    "landslide_miss = pd.read_csv(\"landslide_data3_miss.csv\")"
   ]
  },
  {
   "cell_type": "code",
   "execution_count": 3,
   "id": "653db11f",
   "metadata": {},
   "outputs": [
    {
     "name": "stdout",
     "output_type": "stream",
     "text": [
      "          dates stationid  temperature  humidity     pressure      rain  \\\n",
      "0    08-07-2018       t10     25.46875  82.18750  1036.346875      6.75   \n",
      "1    09-07-2018       t10     26.19298  83.14912  1037.604386   1761.75   \n",
      "2    10-07-2018       t10     25.17021  85.34043  1037.889362    652.50   \n",
      "3    11-07-2018       t10     24.29851  87.68657  1036.857463    963.00   \n",
      "4    12-07-2018       t10     24.06923  87.64615  1027.830769    254.25   \n",
      "..          ...       ...          ...       ...          ...       ...   \n",
      "940  21-11-2018        t9     16.65926  58.69630  1026.797407  73577.25   \n",
      "941  22-11-2018        t9     15.52482  63.16312  1027.495248  65301.75   \n",
      "942  23-11-2018        t9     15.81560  59.21277  1029.318511  73534.50   \n",
      "943  24-11-2018        t9     16.58571  54.63571  1026.776357  72283.50   \n",
      "944  25-11-2018        t9     17.90000  49.41000  1026.771200  71799.75   \n",
      "\n",
      "     lightavgw/o0  lightmax  moisture  \n",
      "0          5.5000      4000    0.0000  \n",
      "1         11.8448      4000    5.6930  \n",
      "2          8.7692      4000    6.8511  \n",
      "3          8.8358      4000    6.0373  \n",
      "4        274.6232      4333   31.2385  \n",
      "..            ...       ...       ...  \n",
      "940     5521.1231     47460   54.4222  \n",
      "941     5521.1231     47460   54.5674  \n",
      "942     5521.1231     47460   54.8794  \n",
      "943     5521.1231     47460   55.0286  \n",
      "944     5783.7581     47460   55.3400  \n",
      "\n",
      "[945 rows x 9 columns]\n",
      "          dates stationid  temperature  humidity     pressure      rain  \\\n",
      "0    08-07-2018       t10     25.46875  82.18750  1036.346875      6.75   \n",
      "1    09-07-2018       t10     26.19298  83.14912  1037.604386   1761.75   \n",
      "2    10-07-2018       t10     25.17021  85.34043  1037.889362    652.50   \n",
      "3    11-07-2018       t10          NaN  87.68657  1036.857463    963.00   \n",
      "4    12-07-2018       t10     24.06923  87.64615  1027.830769    254.25   \n",
      "..          ...       ...          ...       ...          ...       ...   \n",
      "940  21-11-2018        t9          NaN  58.69630  1026.797407  73577.25   \n",
      "941  22-11-2018        t9     15.52482  63.16312  1027.495248  65301.75   \n",
      "942  23-11-2018        t9     15.81560  59.21277  1029.318511  73534.50   \n",
      "943  24-11-2018        t9     16.58571  54.63571  1026.776357  72283.50   \n",
      "944  25-11-2018        t9     17.90000  49.41000  1026.771200  71799.75   \n",
      "\n",
      "     lightavgw/o0  lightmax  moisture  \n",
      "0          5.5000    4000.0    0.0000  \n",
      "1         11.8448    4000.0    5.6930  \n",
      "2          8.7692    4000.0       NaN  \n",
      "3          8.8358    4000.0    6.0373  \n",
      "4        274.6232    4333.0   31.2385  \n",
      "..            ...       ...       ...  \n",
      "940     5521.1231   47460.0   54.4222  \n",
      "941     5521.1231   47460.0   54.5674  \n",
      "942     5521.1231   47460.0   54.8794  \n",
      "943     5521.1231   47460.0   55.0286  \n",
      "944     5783.7581   47460.0   55.3400  \n",
      "\n",
      "[945 rows x 9 columns]\n"
     ]
    }
   ],
   "source": [
    "print(landslide_orig)\n",
    "print(landslide_miss)"
   ]
  },
  {
   "cell_type": "code",
   "execution_count": 4,
   "id": "7684088f",
   "metadata": {},
   "outputs": [
    {
     "name": "stdout",
     "output_type": "stream",
     "text": [
      "dates            0\n",
      "stationid       19\n",
      "temperature     66\n",
      "humidity        45\n",
      "pressure        77\n",
      "rain            38\n",
      "lightavgw/o0    47\n",
      "lightmax        31\n",
      "moisture        31\n",
      "dtype: int64\n"
     ]
    },
    {
     "data": {
      "image/png": "[encoded data removed]",
      "text/plain": [
       "<Figure size 720x504 with 1 Axes>"
      ]
     },
     "metadata": {
      "needs_background": "light"
     },
     "output_type": "display_data"
    }
   ],
   "source": [
    "# QUESTION-1: Plot a Graph of the Attribute Names with the Number of Missing Values in Them\n",
    "missing_vals = landslide_miss.isna().sum()\n",
    "print(missing_vals)\n",
    "plt.figure(figsize = (10, 7))\n",
    "plt.bar(missing_vals.index, missing_vals.values, color = 'pink')\n",
    "plt.xticks(rotation = 45)\n",
    "plt.xlabel(\"Attributes\")\n",
    "plt.ylabel(\"Number of Missing Values\")\n",
    "plt.title(\"Number of Missing Values in Each Attribute\")\n",
    "plt.show()"
   ]
  },
  {
   "cell_type": "code",
   "execution_count": 5,
   "id": "0dbfe511",
   "metadata": {},
   "outputs": [
    {
     "name": "stdout",
     "output_type": "stream",
     "text": [
      "Number of tuples being deleted = 19\n"
     ]
    }
   ],
   "source": [
    "# QUESTION-2(A): Drop the tuples with missing values in 'stationid'\n",
    "\n",
    "target = 'stationid'\n",
    "temp_df = landslide_miss.dropna(axis = 'index', subset = [target])\n",
    "print(\"Number of tuples being deleted =\", (len(landslide_miss) - len(temp_df)))\n",
    "landslide_miss = temp_df.copy()\n",
    "del temp_df"
   ]
  },
  {
   "cell_type": "code",
   "execution_count": 6,
   "id": "2e75f8dc",
   "metadata": {},
   "outputs": [
    {
     "name": "stdout",
     "output_type": "stream",
     "text": [
      "Number of tuples being deleted = 35\n"
     ]
    }
   ],
   "source": [
    "# QUESTION-2(B): Drop the tuples with one-third or more missing attributes\n",
    "\n",
    "col_count = len(landslide_miss.columns)\n",
    "permitted_miss = col_count/3\n",
    "\n",
    "more_miss_index = landslide_miss[landslide_miss.isna().sum(axis = 1) >= permitted_miss].index\n",
    "temp_df = landslide_miss.drop(more_miss_index)\n",
    "print(\"Number of tuples being deleted =\", (len(landslide_miss) - len(temp_df)))\n",
    "landslide_miss = temp_df.copy()\n",
    "del temp_df"
   ]
  },
  {
   "cell_type": "code",
   "execution_count": 7,
   "id": "fb4c7387",
   "metadata": {},
   "outputs": [
    {
     "name": "stdout",
     "output_type": "stream",
     "text": [
      "Column-wise number of missing values:\n",
      "dates            0\n",
      "stationid        0\n",
      "temperature     34\n",
      "humidity        13\n",
      "pressure        41\n",
      "rain             6\n",
      "lightavgw/o0    15\n",
      "lightmax         1\n",
      "moisture         6\n",
      "dtype: int64\n",
      "\n",
      "Total number of missing values:\n",
      "116\n"
     ]
    }
   ],
   "source": [
    "# QUESTION -3: Number of Missing Values in each column\n",
    "\n",
    "missing_vals = landslide_miss.isna().sum()\n",
    "print(\"Column-wise number of missing values:\")\n",
    "print(missing_vals)\n",
    "print()\n",
    "print(\"Total number of missing values:\")\n",
    "print(missing_vals.sum())"
   ]
  },
  {
   "cell_type": "code",
   "execution_count": 8,
   "id": "ecfbb733",
   "metadata": {},
   "outputs": [
    {
     "name": "stdout",
     "output_type": "stream",
     "text": [
      "          dates stationid  temperature  humidity     pressure      rain  \\\n",
      "0    08-07-2018       t10    25.468750  82.18750  1036.346875      6.75   \n",
      "1    09-07-2018       t10    26.192980  83.14912  1037.604386   1761.75   \n",
      "2    10-07-2018       t10    25.170210  85.34043  1037.889362    652.50   \n",
      "3    11-07-2018       t10    21.052444  87.68657  1036.857463    963.00   \n",
      "4    12-07-2018       t10    24.069230  87.64615  1027.830769    254.25   \n",
      "..          ...       ...          ...       ...          ...       ...   \n",
      "940  21-11-2018        t9    21.052444  58.69630  1026.797407  73577.25   \n",
      "941  22-11-2018        t9    15.524820  63.16312  1027.495248  65301.75   \n",
      "942  23-11-2018        t9    15.815600  59.21277  1029.318511  73534.50   \n",
      "943  24-11-2018        t9    16.585710  54.63571  1026.776357  72283.50   \n",
      "944  25-11-2018        t9    17.900000  49.41000  1026.771200  71799.75   \n",
      "\n",
      "     lightavgw/o0  lightmax   moisture  \n",
      "0          5.5000    4000.0   0.000000  \n",
      "1         11.8448    4000.0   5.693000  \n",
      "2          8.7692    4000.0  32.602872  \n",
      "3          8.8358    4000.0   6.037300  \n",
      "4        274.6232    4333.0  31.238500  \n",
      "..            ...       ...        ...  \n",
      "940     5521.1231   47460.0  54.422200  \n",
      "941     5521.1231   47460.0  54.567400  \n",
      "942     5521.1231   47460.0  54.879400  \n",
      "943     5521.1231   47460.0  55.028600  \n",
      "944     5783.7581   47460.0  55.340000  \n",
      "\n",
      "[891 rows x 9 columns]\n"
     ]
    }
   ],
   "source": [
    "# QUESTION-4(A): Replacing the missing value by Mean\n",
    "\n",
    "mean_filled_df = landslide_miss.copy()\n",
    "replaced_indices={} # Keeps record of changed tuples for each column\n",
    "replaced_values={} # Keeps record of the mean that has been filled for each column\n",
    "\n",
    "for attribute in landslide_miss.columns:\n",
    "    if mean_filled_df[attribute].isna().sum() != 0:\n",
    "        replaced_indices[attribute] = list(mean_filled_df[mean_filled_df[attribute].isna()].index)\n",
    "        replaced_values[attribute] = mean_filled_df[attribute].mean(skipna = True)\n",
    "        mean_filled_df[attribute].fillna((mean_filled_df[attribute].mean(skipna = True)), inplace = True)\n",
    "print(mean_filled_df)"
   ]
  },
  {
   "cell_type": "code",
   "execution_count": 9,
   "id": "1cc24ebf",
   "metadata": {},
   "outputs": [
    {
     "name": "stdout",
     "output_type": "stream",
     "text": [
      "Comparing the mean of original and new data:\n",
      "              Original Data      New Data\n",
      "temperature       21.214888     21.052444\n",
      "humidity          83.479932     83.125974\n",
      "pressure        1009.008774   1009.465871\n",
      "rain           10701.538370  10798.378825\n",
      "lightavgw/o0    4438.428453   4458.297802\n",
      "lightmax       21788.623280  21463.221348\n",
      "moisture          32.386053     32.602872\n",
      "\n",
      "Comparing the median of original and new data:\n",
      "              Original Data     New Data\n",
      "temperature       22.272730    21.927010\n",
      "humidity          91.380950    91.000000\n",
      "pressure        1014.677832  1014.482302\n",
      "rain              18.000000    15.750000\n",
      "lightavgw/o0    1656.880000  1502.938500\n",
      "lightmax        6634.000000  6569.000000\n",
      "moisture          16.704200    14.169500\n",
      "\n",
      "Comparing the mode of original and new data:\n",
      "              Original Data     New Data\n",
      "temperature       12.727270    21.052444\n",
      "humidity          99.000000    99.000000\n",
      "pressure         789.392692  1009.465871\n",
      "rain               0.000000     0.000000\n",
      "lightavgw/o0    4488.910300  4488.910300\n",
      "lightmax        4000.000000  4000.000000\n",
      "moisture           0.000000     0.000000\n",
      "\n",
      "Comparing the std of original and new data:\n",
      "              Original Data      New Data\n",
      "temperature        4.355818      4.339762\n",
      "humidity          18.210065     18.393926\n",
      "pressure          46.980477     45.855978\n",
      "rain           24852.255288  24833.964919\n",
      "lightavgw/o0    7573.162806   7606.283539\n",
      "lightmax       22064.993089  21943.889293\n",
      "moisture          33.653245     33.714314\n",
      "\n"
     ]
    }
   ],
   "source": [
    "# Part i: Comparing parameters of the original and changed DataFrame\n",
    "\n",
    "# Comparing Mean\n",
    "\n",
    "mean_orig = landslide_orig.mean(numeric_only = True)\n",
    "mean_new = mean_filled_df.mean(numeric_only = True)\n",
    "mean_df = pd.DataFrame({'Original Data': mean_orig, 'New Data': mean_new})\n",
    "print(\"Comparing the mean of original and new data:\")\n",
    "print(mean_df)\n",
    "print()\n",
    "\n",
    "# Comparing Median\n",
    "\n",
    "median_orig = landslide_orig.median(numeric_only = True)\n",
    "median_new = mean_filled_df.median(numeric_only = True)\n",
    "median_df = pd.DataFrame({'Original Data': median_orig, 'New Data': median_new})\n",
    "print(\"Comparing the median of original and new data:\")\n",
    "print(median_df)\n",
    "print()\n",
    "\n",
    "# Comparing Mode\n",
    "\n",
    "mode_orig = landslide_orig.mode(numeric_only = True).T\n",
    "mode_new = mean_filled_df.mode(numeric_only = True).T\n",
    "mode_df = pd.DataFrame({'Original Data': mode_orig[0], 'New Data': mode_new[0]})\n",
    "print(\"Comparing the mode of original and new data:\")\n",
    "print(mode_df)\n",
    "print()\n",
    "\n",
    "# Comparing Standard Deviation\n",
    "\n",
    "std_orig = landslide_orig.std(numeric_only = True)\n",
    "std_new = mean_filled_df.std(numeric_only = True)\n",
    "std_df = pd.DataFrame({'Original Data': std_orig, 'New Data': std_new})\n",
    "print(\"Comparing the std of original and new data:\")\n",
    "print(std_df)\n",
    "print()"
   ]
  },
  {
   "cell_type": "code",
   "execution_count": 10,
   "id": "59bc943e",
   "metadata": {},
   "outputs": [
    {
     "name": "stdout",
     "output_type": "stream",
     "text": [
      "Values have been replaced at indices: \n",
      "{'temperature': [3, 9, 25, 29, 91, 159, 190, 198, 222, 223, 224, 225, 226, 227, 228, 229, 230, 239, 248, 371, 372, 373, 602, 603, 604, 605, 606, 730, 754, 758, 787, 819, 853, 940], 'humidity': [58, 91, 143, 150, 155, 156, 158, 296, 602, 603, 604, 605, 606], 'pressure': [7, 17, 30, 31, 35, 36, 38, 39, 40, 41, 43, 44, 45, 46, 47, 48, 161, 165, 188, 189, 190, 191, 239, 291, 308, 518, 519, 520, 521, 522, 523, 524, 683, 694, 722, 912, 913, 914, 915, 916, 917], 'rain': [12, 16, 27, 58, 144, 168], 'lightavgw/o0': [146, 150, 198, 199, 200, 201, 202, 203, 204, 251, 301, 686, 692, 726, 905], 'lightmax': [905], 'moisture': [2, 5, 16, 250, 686, 907]}\n",
      "\n",
      "The mean values with which replacement has been made:\n",
      "{'temperature': 21.052443978996514, 'humidity': 83.12597403189076, 'pressure': 1009.4658713583344, 'rain': 10798.378824858757, 'lightavgw/o0': 4458.297802397258, 'lightmax': 21463.221348314608, 'moisture': 32.60287186440678}\n",
      "\n",
      "Root Mean Square Errors for the replaced values for each column are: \n",
      "temperature : 3.6572294555826557\n",
      "humidity : 6.953065068697543\n",
      "pressure : 21.059203835808272\n",
      "rain : 10539.429262280151\n",
      "lightavgw/o0 : 2055.502853820539\n",
      "lightmax : 9424.778651685392\n",
      "moisture : 37.01225832732493\n",
      "\n"
     ]
    }
   ],
   "source": [
    "# Part ii: Root Mean Square Error\n",
    "\n",
    "print(\"Values have been replaced at indices: \")\n",
    "print(replaced_indices)\n",
    "print()\n",
    "\n",
    "print(\"The mean values with which replacement has been made:\")\n",
    "print(replaced_values)\n",
    "print()\n",
    "\n",
    "rmse = {}\n",
    "\n",
    "for k in replaced_indices:\n",
    "    dev_sq = []\n",
    "    for i in replaced_indices[k]:\n",
    "        dev_sq.append((landslide_orig.loc[i,k] - replaced_values[k])**2)\n",
    "    rmse[k] = (sum(dev_sq)/len(dev_sq)) ** 0.5\n",
    "\n",
    "attribute_list = []\n",
    "rmse_list = []\n",
    "\n",
    "print(\"Root Mean Square Errors for the replaced values for each column are: \")\n",
    "for k in rmse:\n",
    "    print(k,\":\",rmse[k])\n",
    "    attribute_list.append(k)\n",
    "    rmse_list.append(rmse[k])\n",
    "print()\n",
    "   "
   ]
  },
  {
   "cell_type": "code",
   "execution_count": 11,
   "id": "d71da262",
   "metadata": {},
   "outputs": [
    {
     "name": "stdout",
     "output_type": "stream",
     "text": [
      "['temperature', 'humidity', 'pressure', 'rain', 'lightavgw/o0', 'lightmax', 'moisture']\n",
      "[3.6572294555826557, 6.953065068697543, 21.059203835808272, 10539.429262280151, 2055.502853820539, 9424.778651685392, 37.01225832732493]\n"
     ]
    },
    {
     "data": {
      "image/png": "[encoded data removed]",
      "text/plain": [
       "<Figure size 432x288 with 1 Axes>"
      ]
     },
     "metadata": {
      "needs_background": "light"
     },
     "output_type": "display_data"
    },
    {
     "name": "stdout",
     "output_type": "stream",
     "text": [
      "\n"
     ]
    },
    {
     "data": {
      "image/png": "[encoded data removed]",
      "text/plain": [
       "<Figure size 432x288 with 1 Axes>"
      ]
     },
     "metadata": {
      "needs_background": "light"
     },
     "output_type": "display_data"
    }
   ],
   "source": [
    "# Plotting the RMSE for each attribute\n",
    "\n",
    "print(attribute_list)\n",
    "print(rmse_list)\n",
    "\n",
    "plt.scatter(attribute_list, rmse_list)\n",
    "plt.title(\"Plotting RMSE\")\n",
    "plt.xticks(rotation = 45)\n",
    "plt.grid()\n",
    "plt.show()\n",
    "print()\n",
    "\n",
    "# RMSE with respect to mean of the concerned colummns\n",
    "\n",
    "rmse_wrt_mean = []\n",
    "for k in attribute_list:\n",
    "    rmse_wrt_mean.append(rmse[k]/replaced_values[k])\n",
    "\n",
    "plt.title(\"Plotting RMSE with respect to mean\")\n",
    "plt.ylabel(\"RMSE wrt Mean\")\n",
    "plt.scatter(attribute_list, rmse_wrt_mean, c = \"red\")\n",
    "plt.xticks(rotation = 45)\n",
    "plt.grid()\n",
    "plt.show()\n",
    "    "
   ]
  },
  {
   "cell_type": "code",
   "execution_count": 12,
   "id": "ed0316de",
   "metadata": {},
   "outputs": [
    {
     "name": "stdout",
     "output_type": "stream",
     "text": [
      "          dates stationid  temperature  humidity     pressure      rain  \\\n",
      "0    08-07-2018       t10     25.46875  82.18750  1036.346875      6.75   \n",
      "1    09-07-2018       t10     26.19298  83.14912  1037.604386   1761.75   \n",
      "2    10-07-2018       t10     25.17021  85.34043  1037.889362    652.50   \n",
      "3    11-07-2018       t10     24.61972  87.68657  1036.857463    963.00   \n",
      "4    12-07-2018       t10     24.06923  87.64615  1027.830769    254.25   \n",
      "..          ...       ...          ...       ...          ...       ...   \n",
      "940  21-11-2018        t9     13.80851  58.69630  1026.797407  73577.25   \n",
      "941  22-11-2018        t9     15.52482  63.16312  1027.495248  65301.75   \n",
      "942  23-11-2018        t9     15.81560  59.21277  1029.318511  73534.50   \n",
      "943  24-11-2018        t9     16.58571  54.63571  1026.776357  72283.50   \n",
      "944  25-11-2018        t9     17.90000  49.41000  1026.771200  71799.75   \n",
      "\n",
      "     lightavgw/o0  lightmax  moisture  \n",
      "0          5.5000    4000.0   0.00000  \n",
      "1         11.8448    4000.0   5.69300  \n",
      "2          8.7692    4000.0   5.86515  \n",
      "3          8.8358    4000.0   6.03730  \n",
      "4        274.6232    4333.0  31.23850  \n",
      "..            ...       ...       ...  \n",
      "940     5521.1231   47460.0  54.42220  \n",
      "941     5521.1231   47460.0  54.56740  \n",
      "942     5521.1231   47460.0  54.87940  \n",
      "943     5521.1231   47460.0  55.02860  \n",
      "944     5783.7581   47460.0  55.34000  \n",
      "\n",
      "[891 rows x 9 columns]\n"
     ]
    }
   ],
   "source": [
    "# QUESTION-4(B): Replacing the missing value by Interpolation\n",
    "\n",
    "interpol_df = landslide_miss.copy()\n",
    "\n",
    "for attribute in landslide_miss.columns:\n",
    "    if interpol_df[attribute].isna().sum() != 0:\n",
    "        interpol_df[attribute].interpolate(method = 'linear', inplace = True)\n",
    "print(interpol_df)"
   ]
  },
  {
   "cell_type": "code",
   "execution_count": 13,
   "id": "76daa55e",
   "metadata": {},
   "outputs": [
    {
     "name": "stdout",
     "output_type": "stream",
     "text": [
      "Comparing the mean of original and new data:\n",
      "              Original Data      New Data\n",
      "temperature       21.214888     21.114539\n",
      "humidity          83.479932     83.165602\n",
      "pressure        1009.008774   1009.968097\n",
      "rain           10701.538370  10727.959186\n",
      "lightavgw/o0    4438.428453   4496.753851\n",
      "lightmax       21788.623280  21473.799102\n",
      "moisture          32.386053     32.528672\n",
      "\n",
      "Comparing the median of original and new data:\n",
      "              Original Data     New Data\n",
      "temperature       22.272730    22.139860\n",
      "humidity          91.380950    91.179860\n",
      "pressure        1014.677832  1014.925145\n",
      "rain              18.000000    15.750000\n",
      "lightavgw/o0    1656.880000  1500.500000\n",
      "lightmax        6634.000000  6569.000000\n",
      "moisture          16.704200    13.894400\n",
      "\n",
      "Comparing the mode of original and new data:\n",
      "              Original Data     New Data\n",
      "temperature       12.727270    12.727270\n",
      "humidity          99.000000    99.000000\n",
      "pressure         789.392692   789.392692\n",
      "rain               0.000000     0.000000\n",
      "lightavgw/o0    4488.910300  4488.910300\n",
      "lightmax        4000.000000  4000.000000\n",
      "moisture           0.000000     0.000000\n",
      "\n",
      "Comparing the std of original and new data:\n",
      "              Original Data      New Data\n",
      "temperature        4.355818      4.398734\n",
      "humidity          18.210065     18.408275\n",
      "pressure          46.980477     45.999033\n",
      "rain           24852.255288  24848.714822\n",
      "lightavgw/o0    7573.162806   7649.457776\n",
      "lightmax       22064.993089  21946.160719\n",
      "moisture          33.653245     33.791063\n",
      "\n"
     ]
    }
   ],
   "source": [
    "# Part i: Comparing parameters of the original and changed DataFrame\n",
    "\n",
    "# Comparing Mean\n",
    "\n",
    "mean_new2 = interpol_df.mean(numeric_only = True)\n",
    "mean_df2 = pd.DataFrame({'Original Data': mean_orig, 'New Data': mean_new2})\n",
    "print(\"Comparing the mean of original and new data:\")\n",
    "print(mean_df2)\n",
    "print()\n",
    "\n",
    "# Comparing Median\n",
    "\n",
    "median_new2 = interpol_df.median(numeric_only = True)\n",
    "median_df2 = pd.DataFrame({'Original Data': median_orig, 'New Data': median_new2})\n",
    "print(\"Comparing the median of original and new data:\")\n",
    "print(median_df2)\n",
    "print()\n",
    "\n",
    "# Comparing Mode\n",
    "\n",
    "mode_new2 = interpol_df.mode(numeric_only = True).T\n",
    "mode_df2 = pd.DataFrame({'Original Data': mode_orig[0], 'New Data': mode_new2[0]})\n",
    "print(\"Comparing the mode of original and new data:\")\n",
    "print(mode_df2)\n",
    "print()\n",
    "\n",
    "# Comparing Standard Deviation\n",
    "\n",
    "std_new2 = interpol_df.std(numeric_only = True)\n",
    "std_df2 = pd.DataFrame({'Original Data': std_orig, 'New Data': std_new2})\n",
    "print(\"Comparing the std of original and new data:\")\n",
    "print(std_df2)\n",
    "print()"
   ]
  },
  {
   "cell_type": "code",
   "execution_count": 14,
   "id": "755d24ff",
   "metadata": {},
   "outputs": [
    {
     "name": "stdout",
     "output_type": "stream",
     "text": [
      "Values have been replaced at indices: \n",
      "{'temperature': [3, 9, 25, 29, 91, 159, 190, 198, 222, 223, 224, 225, 226, 227, 228, 229, 230, 239, 248, 371, 372, 373, 602, 603, 604, 605, 606, 730, 754, 758, 787, 819, 853, 940], 'humidity': [58, 91, 143, 150, 155, 156, 158, 296, 602, 603, 604, 605, 606], 'pressure': [7, 17, 30, 31, 35, 36, 38, 39, 40, 41, 43, 44, 45, 46, 47, 48, 161, 165, 188, 189, 190, 191, 239, 291, 308, 518, 519, 520, 521, 522, 523, 524, 683, 694, 722, 912, 913, 914, 915, 916, 917], 'rain': [12, 16, 27, 58, 144, 168], 'lightavgw/o0': [146, 150, 198, 199, 200, 201, 202, 203, 204, 251, 301, 686, 692, 726, 905], 'lightmax': [905], 'moisture': [2, 5, 16, 250, 686, 907]}\n",
      "\n",
      "Root Mean Square Errors for the replaced values for each column are: \n",
      "temperature : 1.3294361526755403\n",
      "humidity : 6.323695638280403\n",
      "pressure : 6.180435710552927\n",
      "rain : 233.41558632083678\n",
      "lightavgw/o0 : 7328.810637078913\n",
      "lightmax : 0.0\n",
      "moisture : 15.429733604027321\n",
      "\n"
     ]
    }
   ],
   "source": [
    "# Part ii: Root Mean Square Error\n",
    "\n",
    "print(\"Values have been replaced at indices: \")\n",
    "print(replaced_indices)\n",
    "print()\n",
    "\n",
    "rmse2 = {}\n",
    "\n",
    "for k in replaced_indices:\n",
    "    dev_sq2 = []\n",
    "    for i in replaced_indices[k]:\n",
    "        dev_sq2.append((landslide_orig.loc[i,k] - interpol_df.loc[i,k])**2)\n",
    "    rmse2[k] = (sum(dev_sq2)/len(dev_sq2)) ** 0.5\n",
    "\n",
    "rmse_list2 = []\n",
    "\n",
    "print(\"Root Mean Square Errors for the replaced values for each column are: \")\n",
    "for k in rmse:\n",
    "    print(k,\":\",rmse2[k])\n",
    "    rmse_list2.append(rmse2[k])\n",
    "print()"
   ]
  },
  {
   "cell_type": "code",
   "execution_count": 15,
   "id": "3e600fce",
   "metadata": {},
   "outputs": [
    {
     "name": "stdout",
     "output_type": "stream",
     "text": [
      "['temperature', 'humidity', 'pressure', 'rain', 'lightavgw/o0', 'lightmax', 'moisture']\n",
      "[1.3294361526755403, 6.323695638280403, 6.180435710552927, 233.41558632083678, 7328.810637078913, 0.0, 15.429733604027321]\n"
     ]
    },
    {
     "data": {
      "image/png": "[encoded data removed]",
      "text/plain": [
       "<Figure size 432x288 with 1 Axes>"
      ]
     },
     "metadata": {
      "needs_background": "light"
     },
     "output_type": "display_data"
    },
    {
     "name": "stdout",
     "output_type": "stream",
     "text": [
      "\n"
     ]
    },
    {
     "data": {
      "image/png": "[encoded data removed]",
      "text/plain": [
       "<Figure size 432x288 with 1 Axes>"
      ]
     },
     "metadata": {
      "needs_background": "light"
     },
     "output_type": "display_data"
    }
   ],
   "source": [
    "# Plotting the RMSE for each attribute\n",
    "\n",
    "print(attribute_list)\n",
    "print(rmse_list2)\n",
    "\n",
    "plt.scatter(attribute_list, rmse_list2)\n",
    "plt.title(\"Plotting RMSE: Interpolation Technique\")\n",
    "plt.xticks(rotation = 45)\n",
    "plt.grid()\n",
    "plt.show()\n",
    "print()\n",
    "\n",
    "# RMSE with respect to mean of the concerned colummns\n",
    "\n",
    "rmse_wrt_mean2 = []\n",
    "for k in attribute_list:\n",
    "    rmse_wrt_mean2.append(rmse2[k]/replaced_values[k])\n",
    "\n",
    "plt.title(\"Plotting RMSE with respect to mean: Interpolation Technique\")\n",
    "plt.ylabel(\"RMSE wrt Mean\")\n",
    "plt.scatter(attribute_list, rmse_wrt_mean2, c = \"red\")\n",
    "plt.xticks(rotation = 45)\n",
    "plt.grid()\n",
    "plt.show()"
   ]
  },
  {
   "cell_type": "code",
   "execution_count": 16,
   "id": "54a3d387",
   "metadata": {},
   "outputs": [
    {
     "name": "stdout",
     "output_type": "stream",
     "text": [
      "For Temperature: \n",
      "\n",
      "First Quartile: 18.003495\n",
      "Third Quartile: 24.411911\n",
      "IQR: 6.408415999999999\n",
      "\n",
      "Outliers in Temperature: \n",
      "[7.6729, 7.6729, 7.6729, 7.6729, 7.6729, 7.6729, 7.6729, 7.6729, 7.6729, 7.6729]\n",
      "----------------------------------------\n",
      "\n"
     ]
    },
    {
     "data": {
      "image/png": "[encoded data removed]",
      "text/plain": [
       "<Figure size 432x288 with 1 Axes>"
      ]
     },
     "metadata": {
      "needs_background": "light"
     },
     "output_type": "display_data"
    }
   ],
   "source": [
    "# QUESTION-5(A): Finding Outliers for 'temperature' and plotting the boxplot\n",
    "\n",
    "print(\"For Temperature: \")\n",
    "print()\n",
    "\n",
    "q1_temp = interpol_df.temperature.quantile(0.25)\n",
    "q3_temp = interpol_df.temperature.quantile(0.75)\n",
    "IQR_temp = q3_temp - q1_temp\n",
    "\n",
    "print(\"First Quartile:\", q1_temp)\n",
    "print(\"Third Quartile:\", q3_temp)\n",
    "print(\"IQR:\", IQR_temp)\n",
    "print()\n",
    "\n",
    "outliers_temp = [] # List of Outliers\n",
    "for i in interpol_df.temperature:\n",
    "    if (i < (q1_temp-(1.5*IQR_temp))) or (i > (q3_temp+(1.5*IQR_temp))):\n",
    "        outliers_temp.append(i)\n",
    "print(\"Outliers in Temperature: \")\n",
    "print(outliers_temp)\n",
    "\n",
    "print(\"-\"*40)\n",
    "print()\n",
    "\n",
    "plt.boxplot(interpol_df.temperature, patch_artist = True, showmeans = True)\n",
    "plt.title(\"Boxplot for 'temperature' with interpolation for missing values\")\n",
    "plt.xticks([1],['temperature'])\n",
    "plt.ylabel(\"unit: Celsius\")\n",
    "plt.grid()\n",
    "plt.show()\n",
    "\n"
   ]
  },
  {
   "cell_type": "code",
   "execution_count": 17,
   "id": "8dcadc16",
   "metadata": {},
   "outputs": [
    {
     "name": "stdout",
     "output_type": "stream",
     "text": [
      "For Rain: \n",
      "\n",
      "First Quartile: 0.0\n",
      "Third Quartile: 1041.75\n",
      "IQR: 1041.75\n",
      "\n",
      "Outliers in Rain: \n",
      "[13583.25, 15459.75, 14001.75, 16571.25, 13666.5, 59982.75, 80000.0, 75048.75, 3930.5, 36636.75, 40789.0, 63256.5, 54616.5, 50172.75, 37928.25, 26178.75, 3138.75, 3449.25, 18884.25, 9765.0, 18976.5, 30393.0, 2814.75, 80000.0, 82037.25, 56319.75, 71968.5, 80000.0, 80000.0, 50242.5, 80000.0, 80000.0, 80000.0, 80000.0, 80000.0, 80000.0, 80000.0, 80000.0, 80000.0, 80000.0, 80000.0, 80000.0, 80000.0, 80000.0, 80000.0, 80000.0, 80000.0, 80000.0, 80000.0, 80000.0, 80000.0, 80000.0, 80000.0, 80000.0, 80000.0, 80000.0, 80000.0, 80000.0, 80000.0, 80000.0, 60675.75, 22250.25, 2637.0, 80000.0, 80000.0, 80000.0, 80000.0, 80000.0, 80000.0, 80000.0, 37392.75, 49725.0, 80000.0, 80000.0, 71154.0, 80000.0, 80000.0, 12854.25, 34879.5, 4610.25, 6210.0, 10557.0, 3451.5, 3312.0, 18285.75, 3613.5, 2893.5, 23474.25, 14042.25, 3647.25, 5877.0, 10062.0, 17997.75, 29517.75, 32514.75, 13943.25, 4212.0, 4691.25, 7519.5, 11112.75, 2821.5, 33941.25, 43643.25, 20664.0, 11144.25, 18587.25, 15646.5, 12915.0, 49916.25, 24522.75, 75105.0, 73417.5, 70580.25, 78126.75, 56097.0, 6061.5, 38355.75, 55509.75, 43974.0, 6747.75, 54843.75, 59377.5, 58320.0, 60963.75, 63342.0, 67378.5, 70929.0, 73158.75, 71367.75, 73838.25, 46732.5, 48429.0, 67830.75, 75447.0, 74646.0, 75402.0, 75723.75, 74254.5, 75201.75, 77044.5, 74472.75, 77503.5, 78180.75, 79915.5, 80583.75, 80482.5, 79337.25, 79317.0, 70823.25, 75638.25, 73752.75, 65893.5, 72774.0, 7773.75, 12037.5, 79839.0, 78633.0, 78779.25, 76662.0, 67252.5, 74913.75, 4869.0, 41618.25, 58443.75, 74173.5, 72445.5, 65873.25, 67675.5, 61989.75, 71237.25, 73577.25, 65301.75, 73534.5, 72283.5, 71799.75]\n",
      "----------------------------------------\n",
      "\n"
     ]
    },
    {
     "data": {
      "image/png": "[encoded data removed]",
      "text/plain": [
       "<Figure size 432x288 with 1 Axes>"
      ]
     },
     "metadata": {
      "needs_background": "light"
     },
     "output_type": "display_data"
    }
   ],
   "source": [
    "# Finding Outliers for 'rain' and plotting the boxplot\n",
    "\n",
    "print(\"For Rain: \")\n",
    "print()\n",
    "\n",
    "q1_rain = interpol_df.rain.quantile(0.25)\n",
    "q3_rain = interpol_df.rain.quantile(0.75)\n",
    "IQR_rain = q3_rain - q1_rain\n",
    "\n",
    "print(\"First Quartile:\", q1_rain)\n",
    "print(\"Third Quartile:\", q3_rain)\n",
    "print(\"IQR:\", IQR_rain)\n",
    "print()\n",
    "\n",
    "outliers_rain = []\n",
    "for i in interpol_df.rain:\n",
    "    if (i < (q1_rain-(1.5*IQR_rain))) or (i > (q3_rain+(1.5*IQR_rain))):\n",
    "        outliers_rain.append(i)\n",
    "print(\"Outliers in Rain: \")\n",
    "print(outliers_rain)\n",
    "\n",
    "print(\"-\"*40)\n",
    "print()\n",
    "\n",
    "plt.boxplot(interpol_df.rain, patch_artist = True, showmeans = True)\n",
    "plt.grid()\n",
    "plt.show()\n"
   ]
  },
  {
   "cell_type": "code",
   "execution_count": 18,
   "id": "018048f3",
   "metadata": {},
   "outputs": [
    {
     "data": {
      "image/png": "[encoded data removed]",
      "text/plain": [
       "<Figure size 432x288 with 1 Axes>"
      ]
     },
     "metadata": {
      "needs_background": "light"
     },
     "output_type": "display_data"
    },
    {
     "data": {
      "image/png": "[encoded data removed]",
      "text/plain": [
       "<Figure size 432x288 with 1 Axes>"
      ]
     },
     "metadata": {
      "needs_background": "light"
     },
     "output_type": "display_data"
    }
   ],
   "source": [
    "# (B): Replacing Outliers by Median\n",
    "\n",
    "# Calculating median\n",
    "temp_med = interpol_df.temperature.median()\n",
    "rain_med = interpol_df.rain.median()\n",
    "\n",
    "# Creating another DataFrame with outliers replaced with Median\n",
    "outliers_rep_df = interpol_df.copy()\n",
    "for i in outliers_rep_df.index:\n",
    "    x = outliers_rep_df.loc[i, 'temperature']\n",
    "    y = outliers_rep_df.loc[i, 'rain']\n",
    "    if (x < (q1_temp-(1.5*IQR_temp))) or (x > (q3_temp+(1.5*IQR_temp))):\n",
    "        outliers_rep_df.loc[i, 'temperature'] = temp_med\n",
    "    if (y < (q1_rain-(1.5*IQR_rain))) or (y > (q3_rain+(1.5*IQR_rain))):\n",
    "        outliers_rep_df.loc[i, 'rain'] = rain_med\n",
    "        \n",
    "# Boxplots\n",
    "\n",
    "# Boxplot for temperature\n",
    "plt.boxplot(outliers_rep_df.temperature, patch_artist = True, showmeans = True)\n",
    "plt.title(\"'temperature' boxplot after replacing outliers with median\")\n",
    "plt.xticks([1],['temperature'])\n",
    "plt.ylabel(\"unit: Celsius\")\n",
    "plt.grid()\n",
    "plt.show()\n",
    "\n",
    "# Boxplot for rain (Plotted separately because of difference in range with temperature)\n",
    "plt.boxplot(outliers_rep_df.rain, patch_artist = True, showmeans = True)\n",
    "plt.title(\"'rain' boxplot after replacing outliers with median\")\n",
    "plt.xticks([1],['rain'])\n",
    "plt.ylabel(\"unit: ml\")\n",
    "plt.grid()\n",
    "plt.show()"
   ]
  },
  {
   "cell_type": "code",
   "execution_count": null,
   "id": "b8d761b0",
   "metadata": {},
   "outputs": [],
   "source": []
  }
 ],
 "metadata": {
  "kernelspec": {
   "display_name": "Python 3 (ipykernel)",
   "language": "python",
   "name": "python3"
  },
  "language_info": {
   "codemirror_mode": {
    "name": "ipython",
    "version": 3
   },
   "file_extension": ".py",
   "mimetype": "text/x-python",
   "name": "python",
   "nbconvert_exporter": "python",
   "pygments_lexer": "ipython3",
   "version": "3.9.7"
  }
 },
 "nbformat": 4,
 "nbformat_minor": 5
}
