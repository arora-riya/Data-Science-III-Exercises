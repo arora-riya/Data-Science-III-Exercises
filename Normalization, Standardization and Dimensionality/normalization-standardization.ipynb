{
 "cells": [
  {
   "cell_type": "code",
   "execution_count": 22,
   "id": "05c0506d",
   "metadata": {},
   "outputs": [],
   "source": [
    "# Importing Libraries\n",
    "\n",
    "import pandas as pd\n",
    "import numpy as np\n",
    "import matplotlib.pyplot as plt\n",
    "from sklearn.decomposition import PCA\n",
    "import seaborn as sns; sns.set()"
   ]
  },
  {
   "cell_type": "code",
   "execution_count": null,
   "id": "434072da",
   "metadata": {},
   "outputs": [],
   "source": [
    "# Reading the CSV Data\n",
    "\n",
    "diab_data = pd.read_csv(\"pima-indians-diabetes.csv\")\n",
    "print(diab_data.head())"
   ]
  },
  {
   "cell_type": "markdown",
   "id": "d339e350",
   "metadata": {},
   "source": [
    "### QUESTION-1"
   ]
  },
  {
   "cell_type": "code",
   "execution_count": 14,
   "id": "54f7be9b",
   "metadata": {},
   "outputs": [
    {
     "name": "stdout",
     "output_type": "stream",
     "text": [
      "   pregs  plas  pres  skin   test   BMI    pedi  Age  class\n",
      "0      6   148    72    35    0.0  33.6  0.6270   50      1\n",
      "1      1    85    66    29    0.0  26.6  0.3510   31      0\n",
      "2      8   183    64     0    0.0  23.3  0.6720   32      1\n",
      "3      1    89    66    23   94.0  28.1  0.1670   21      0\n",
      "4      0   137    40    35  168.0  43.1  0.3725   33      1\n",
      "pregs      3.782552\n",
      "plas     121.656250\n",
      "pres      72.108073\n",
      "skin      20.437500\n",
      "test      54.281738\n",
      "BMI       32.107031\n",
      "pedi       0.408996\n",
      "Age       32.032552\n",
      "dtype: float64\n"
     ]
    }
   ],
   "source": [
    "# REPLACING OUTLIERS BY MEDIAN\n",
    "\n",
    "for attribute in diab_data.columns:\n",
    "    \n",
    "    # Ignoring Outlier Replacement for 'class'\n",
    "    if attribute == 'class':\n",
    "        continue\n",
    "        \n",
    "    q1 = np.quantile(diab_data[attribute], 0.25)\n",
    "    q3 = np.quantile(diab_data[attribute],0.75)\n",
    "    IQR = q3 - q1\n",
    "    med = diab_data[attribute].median()\n",
    "    \n",
    "    for i in diab_data.index:\n",
    "        val = diab_data.loc[i, attribute]\n",
    "        if (val<(q1-(1.5*IQR))) or (val>(q3+(1.5*IQR))):\n",
    "            diab_data.loc[i, attribute] = med\n",
    "    \n",
    "    # The DataFrame is now outlier-corrected\n",
    " \n",
    "print(diab_data.head())\n",
    "\n",
    "before_mean = pd.Series([diab_data[x].mean() for x in cols], index = cols)"
   ]
  },
  {
   "cell_type": "code",
   "execution_count": 15,
   "id": "192f990e",
   "metadata": {},
   "outputs": [
    {
     "name": "stdout",
     "output_type": "stream",
     "text": [
      "      pregs       plas     pres      skin      test        BMI      pedi  \\\n",
      "0  8.230769   9.696774  8.50000  8.888889  5.000000   8.522876  9.070975   \n",
      "1  5.538462   6.851613  7.84375  8.222222  5.000000   6.921569  7.024364   \n",
      "2  9.307692  11.277419  7.62500  5.000000  5.000000   6.166667  9.404661   \n",
      "3  5.538462   7.032258  7.84375  7.555556  7.550388   7.264706  5.659958   \n",
      "4  5.000000   9.200000  5.00000  8.888889  9.558140  10.696078  7.183792   \n",
      "\n",
      "      Age  class  \n",
      "0  10.075      1  \n",
      "1   6.750      0  \n",
      "2   6.925      1  \n",
      "3   5.000      0  \n",
      "4   7.100      1  \n",
      "pregs      3.782552\n",
      "plas     121.656250\n",
      "pres      72.108073\n",
      "skin      20.437500\n",
      "test      54.281738\n",
      "BMI       32.107031\n",
      "pedi       0.408996\n",
      "Age       32.032552\n",
      "dtype: float64\n"
     ]
    }
   ],
   "source": [
    "# Part (a): Min-Max Normalization in range 5 to 12\n",
    "\n",
    "normalized_df = pd.DataFrame()\n",
    "\n",
    "normal_max = 12\n",
    "normal_min = 5\n",
    "normal_range = normal_max - normal_min\n",
    "\n",
    "for attribute in diab_data:\n",
    "    \n",
    "    if attribute == 'class':\n",
    "        normalized_df[attribute] = diab_data[attribute]\n",
    "        continue\n",
    "        \n",
    "    attribute_max = diab_data[attribute].max()\n",
    "    attribute_min = diab_data[attribute].min()\n",
    "    attribute_range = attribute_max - attribute_min\n",
    "    \n",
    "    normalized_df[attribute] = ((diab_data[attribute]-attribute_min) * (normal_range/attribute_range)) + normal_min\n",
    "\n",
    "print(normalized_df.head())\n"
   ]
  },
  {
   "cell_type": "code",
   "execution_count": 7,
   "id": "d4fd0be9",
   "metadata": {},
   "outputs": [
    {
     "name": "stdout",
     "output_type": "stream",
     "text": [
      "       Minimum Before  Minimum After  Maximum Before  Maximum After\n",
      "pregs           0.000            5.0          13.000           12.0\n",
      "plas           44.000            5.0         199.000           12.0\n",
      "pres           38.000            5.0         106.000           12.0\n",
      "skin            0.000            5.0          63.000           12.0\n",
      "test            0.000            5.0         318.000           12.0\n",
      "BMI            18.200            5.0          50.000           12.0\n",
      "pedi            0.078            5.0           1.191           12.0\n",
      "Age            21.000            5.0          66.000           12.0\n"
     ]
    }
   ],
   "source": [
    "# Comparing Minimum and Maximum Values before and after normalization\n",
    "\n",
    "cols = [c for c in diab_data.columns if c != 'class']\n",
    "\n",
    "before_min = pd.Series([diab_data[x].min() for x in cols], index = cols)\n",
    "after_min = pd.Series([normalized_df[x].min() for x in cols], index = cols)\n",
    "before_max = pd.Series([diab_data[x].max() for x in cols], index = cols)\n",
    "after_max = pd.Series([normalized_df[x].max() for x in cols], index = cols)\n",
    "\n",
    "comparison_df = pd.DataFrame({\"Minimum Before\":before_min, \"Minimum After\": after_min, \"Maximum Before\":before_max, \"Maximum After\": after_max})\n",
    "print(comparison_df)\n",
    "                        "
   ]
  },
  {
   "cell_type": "code",
   "execution_count": 8,
   "id": "b7b3c781",
   "metadata": {},
   "outputs": [
    {
     "name": "stdout",
     "output_type": "stream",
     "text": [
      "      pregs      plas      pres      skin      test       BMI      pedi  \\\n",
      "0  0.677985  0.865481 -0.017639  0.927633 -0.784682  0.218552  0.813064   \n",
      "1 -0.850766 -1.204281 -0.555914  0.545432 -0.784682 -0.873396 -0.312721   \n",
      "2  1.289485  2.015348 -0.735339 -1.301872 -0.784682 -1.388172  0.996616   \n",
      "3 -0.850766 -1.072868 -0.555914  0.163232  0.426102 -0.639407 -1.063244   \n",
      "4 -1.156516  0.504094 -2.888438  0.927633  1.379272  1.700483 -0.225024   \n",
      "\n",
      "        Age  class  \n",
      "0  1.559383      1  \n",
      "1 -0.159236      0  \n",
      "2 -0.068782      1  \n",
      "3 -1.063773      0  \n",
      "4  0.021671      1  \n"
     ]
    }
   ],
   "source": [
    "# Part (b): Standardization\n",
    "\n",
    "standard_df = pd.DataFrame()\n",
    "\n",
    "for attribute in diab_data:\n",
    "    \n",
    "    if attribute == 'class':\n",
    "        standard_df[attribute] = diab_data[attribute]\n",
    "        continue\n",
    "        \n",
    "    attribute_mean = diab_data[attribute].mean()\n",
    "    attribute_std = diab_data[attribute].std()\n",
    "    \n",
    "    standard_df[attribute] = (diab_data[attribute]-attribute_mean)/attribute_std\n",
    "\n",
    "print(standard_df.head())"
   ]
  },
  {
   "cell_type": "code",
   "execution_count": 16,
   "id": "3797bcad",
   "metadata": {},
   "outputs": [
    {
     "name": "stdout",
     "output_type": "stream",
     "text": [
      "       Mean Before    Mean After  StD Before  StD After\n",
      "pregs     3.782552 -1.324172e-16    3.270644        1.0\n",
      "plas    121.656250 -5.637851e-18   30.438286        1.0\n",
      "pres     72.108073  4.840240e-16   10.874178        1.0\n",
      "skin     20.437500 -1.445603e-19   15.698554        1.0\n",
      "test     54.281738 -1.734723e-17   68.554835        1.0\n",
      "BMI      32.107031  3.896839e-15    6.284780        1.0\n",
      "pedi      0.408996  4.870236e-16    0.218380        1.0\n",
      "Age      32.032552  1.937108e-16   10.082592        1.0\n"
     ]
    }
   ],
   "source": [
    "# Comparing Mean and Standard Deviations before and after\n",
    "\n",
    "cols = [c for c in diab_data.columns if c != 'class']\n",
    "\n",
    "before_mean = pd.Series([diab_data[x].mean() for x in cols], index = cols)\n",
    "after_mean = pd.Series([standard_df[x].mean() for x in cols], index = cols)\n",
    "before_std = pd.Series([diab_data[x].std() for x in cols], index = cols)\n",
    "after_std = pd.Series([standard_df[x].std() for x in cols], index = cols)\n",
    "\n",
    "comparison_df2 = pd.DataFrame({\"Mean Before\":before_mean, \"Mean After\": after_mean, \"StD Before\":before_std, \"StD After\": after_std})\n",
    "print(comparison_df2)"
   ]
  },
  {
   "cell_type": "markdown",
   "id": "8f6d9d09",
   "metadata": {},
   "source": [
    "### QUESTION-2"
   ]
  },
  {
   "cell_type": "code",
   "execution_count": 18,
   "id": "ea1541c9",
   "metadata": {},
   "outputs": [
    {
     "name": "stdout",
     "output_type": "stream",
     "text": [
      "[[[-0.82793183  2.6592466 ]\n",
      "  [-1.16818794 -0.65747701]\n",
      "  [ 0.41136076  2.87971541]\n",
      "  ...\n",
      "  [ 3.44881786 -2.41776264]\n",
      "  [ 2.87247977 -3.08768974]\n",
      "  [-3.36988371 -0.53897027]]\n",
      "\n",
      " [[ 5.06283912 -1.84123554]\n",
      "  [ 1.09751314  0.97008205]\n",
      "  [ 6.77290501  0.79069669]\n",
      "  ...\n",
      "  [-6.96131502 -2.42615234]\n",
      "  [ 4.02199202  1.2297555 ]\n",
      "  [-5.20944998  2.52002317]]]\n"
     ]
    }
   ],
   "source": [
    "# Generating the Data Matrix D\n",
    "\n",
    "size = 1000\n",
    "dim = 2\n",
    "\n",
    "mean_values = [0, 0]\n",
    "covariance_matrix = [[13, -3], [-3, 5]]\n",
    "\n",
    "D = np.random.multivariate_normal(mean_values, covariance_matrix, size = (2, 1000))\n",
    "\n",
    "print(D)"
   ]
  },
  {
   "cell_type": "code",
   "execution_count": 26,
   "id": "eae3e75f",
   "metadata": {},
   "outputs": [
    {
     "data": {
      "image/png": "[encoded data removed]",
      "text/plain": [
       "<Figure size 432x288 with 1 Axes>"
      ]
     },
     "metadata": {},
     "output_type": "display_data"
    }
   ],
   "source": [
    "# Part a: Creating Scatter Plot of the Data Samples\n",
    "\n",
    "plt.scatter(D[0], D[1], s = 3)\n",
    "plt.show()"
   ]
  },
  {
   "cell_type": "code",
   "execution_count": 27,
   "id": "4493c31e",
   "metadata": {},
   "outputs": [
    {
     "name": "stdout",
     "output_type": "stream",
     "text": [
      "Eigenvalues: \n",
      "[14.  4.]\n",
      "-------------------------\n",
      "Eigenvectors: \n",
      "[[ 0.9486833   0.31622777]\n",
      " [-0.31622777  0.9486833 ]]\n"
     ]
    }
   ],
   "source": [
    "# Part b: Eigenvalues and eigenvectors of the covariance matrix\n",
    "\n",
    "eigen_val, eigen_vec = np.linalg.eig(covariance_matrix)\n",
    "print(\"Eigenvalues: \")\n",
    "print(eigen_val)\n",
    "print(\"-\"*25)\n",
    "print(\"Eigenvectors: \")\n",
    "print(eigen_vec)"
   ]
  },
  {
   "cell_type": "code",
   "execution_count": 46,
   "id": "61cf048b",
   "metadata": {},
   "outputs": [
    {
     "data": {
      "text/plain": [
       "<matplotlib.quiver.Quiver at 0x1e0c75098b0>"
      ]
     },
     "execution_count": 46,
     "metadata": {},
     "output_type": "execute_result"
    },
    {
     "data": {
      "image/png": "[encoded data removed]",
      "text/plain": [
       "<Figure size 432x288 with 1 Axes>"
      ]
     },
     "metadata": {},
     "output_type": "display_data"
    }
   ],
   "source": [
    "# Plotting Eigen directions onto the scatter plot\n",
    "\n",
    "plt.scatter(D[0], D[1], s = 3)\n",
    "# Plotting Arrows\n",
    "plt.quiver(eigen_vec[0][0], eigen_vec[0][1], color = 'white', scale = 15)\n",
    "plt.quiver(eigen_vec[1][0], eigen_vec[1][1], color = 'white', scale = 15)\n",
    "plt.show()"
   ]
  },
  {
   "cell_type": "code",
   "execution_count": null,
   "id": "2f41587a",
   "metadata": {},
   "outputs": [],
   "source": []
  }
 ],
 "metadata": {
  "kernelspec": {
   "display_name": "Python 3 (ipykernel)",
   "language": "python",
   "name": "python3"
  },
  "language_info": {
   "codemirror_mode": {
    "name": "ipython",
    "version": 3
   },
   "file_extension": ".py",
   "mimetype": "text/x-python",
   "name": "python",
   "nbconvert_exporter": "python",
   "pygments_lexer": "ipython3",
   "version": "3.9.7"
  }
 },
 "nbformat": 4,
 "nbformat_minor": 5
}
